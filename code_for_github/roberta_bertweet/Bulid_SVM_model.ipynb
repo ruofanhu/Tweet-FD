{
  "nbformat": 4,
  "nbformat_minor": 0,
  "metadata": {
    "colab": {
      "name": "Bulid_SVM_model.ipynb",
      "provenance": [],
      "collapsed_sections": []
    },
    "kernelspec": {
      "name": "python3",
      "display_name": "Python 3"
    },
    "language_info": {
      "name": "python"
    }
  },
  "cells": [
    {
      "cell_type": "code",
      "metadata": {
        "id": "fNqMUcTvHU_b"
      },
      "source": [
        "from sklearn.feature_extraction.text import CountVectorizer\n",
        "from sklearn.feature_extraction.text import TfidfTransformer\n",
        "from sklearn.svm import SVC\n",
        "from sklearn.pipeline import Pipeline\n",
        "from sklearn.metrics import confusion_matrix,accuracy_score,f1_score\n",
        "import pandas as pd\n",
        "import numpy as np\n",
        "import random"
      ],
      "execution_count": 1,
      "outputs": []
    },
    {
      "cell_type": "code",
      "metadata": {
        "id": "A7bVq56KHzZh"
      },
      "source": [
        "train_data = pd.read_pickle('/tweet-fd/train.p')\n",
        "dev_data = pd.read_pickle('/tweet-fd/val.p')\n",
        "test_data = pd.read_pickle('/tweet-fd//test.p')"
      ],
      "execution_count": 2,
      "outputs": []
    },
    {
      "cell_type": "code",
      "metadata": {
        "id": "9t5JVqkLLYUF",
        "colab": {
          "base_uri": "https://localhost:8080/"
        },
        "outputId": "7dbc3457-a0ac-495a-8681-a854bf857321"
      },
      "source": [
        "test_acc_list, test_f1_list, test_cf_list = [], [], []\n",
        "for random_seed in range(100, 501, 100):\n",
        "    random.seed(random_seed)\n",
        "    text_clf = Pipeline([\n",
        "        ('vect', CountVectorizer()),\n",
        "        ('tfidf', TfidfTransformer()),\n",
        "        ('clf', SVC(random_state=random_seed)),\n",
        "    ])\n",
        "    np.random.seed(random_seed)\n",
        "    indices = train_data.index.tolist()\n",
        "    np.random.shuffle(indices)\n",
        "    new_x = train_data['tweet'].copy()\n",
        "    new_x = new_x[indices]\n",
        "    new_y = train_data['sentence_class'].copy()\n",
        "    new_y = new_y[indices]\n",
        "    text_clf.fit(new_x, new_y)\n",
        "    predicted = text_clf.predict(test_data['tweet'])\n",
        "    test_acc = accuracy_score(test_data['sentence_class'], predicted)\n",
        "    test_f1 = f1_score(test_data['sentence_class'], predicted)\n",
        "    test_cf = confusion_matrix(test_data['sentence_class'], predicted)\n",
        "    test_acc_list.append(test_acc)\n",
        "    test_f1_list.append(test_f1)\n",
        "    test_cf_list.append(test_cf)\n",
        "    print('test accuracy:', test_acc)\n",
        "    print('test f1:', test_f1)\n",
        "    print('test confusion matrix', test_cf)\n",
        "    del text_clf, indices, new_x, new_y"
      ],
      "execution_count": 3,
      "outputs": [
        {
          "output_type": "stream",
          "text": [
            "test accuracy: 0.7672955974842768\n",
            "test f1: 0.8477366255144032\n",
            "test confusion matrix [[ 38  64]\n",
            " [ 10 206]]\n",
            "test accuracy: 0.7672955974842768\n",
            "test f1: 0.8477366255144032\n",
            "test confusion matrix [[ 38  64]\n",
            " [ 10 206]]\n",
            "test accuracy: 0.7672955974842768\n",
            "test f1: 0.8477366255144032\n",
            "test confusion matrix [[ 38  64]\n",
            " [ 10 206]]\n",
            "test accuracy: 0.7672955974842768\n",
            "test f1: 0.8477366255144032\n",
            "test confusion matrix [[ 38  64]\n",
            " [ 10 206]]\n",
            "test accuracy: 0.7672955974842768\n",
            "test f1: 0.8477366255144032\n",
            "test confusion matrix [[ 38  64]\n",
            " [ 10 206]]\n"
          ],
          "name": "stdout"
        }
      ]
    },
    {
      "cell_type": "code",
      "metadata": {
        "colab": {
          "base_uri": "https://localhost:8080/"
        },
        "id": "qt78cDAjMvA0",
        "outputId": "232d87aa-23f5-4880-819e-db49a1060000"
      },
      "source": [
        "text_clf.predict(pd.Series(['I got sick after going to Taco Bell']))"
      ],
      "execution_count": 7,
      "outputs": [
        {
          "output_type": "execute_result",
          "data": {
            "text/plain": [
              "array([1])"
            ]
          },
          "metadata": {
            "tags": []
          },
          "execution_count": 7
        }
      ]
    }
  ]
}